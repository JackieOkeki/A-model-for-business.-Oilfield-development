{
 "cells": [
  {
   "cell_type": "markdown",
   "metadata": {},
   "source": [
    "# Выбор локации для скважины"
   ]
  },
  {
   "cell_type": "markdown",
   "metadata": {},
   "source": [
    "## **Описание проекта**"
   ]
  },
  {
   "cell_type": "markdown",
   "metadata": {},
   "source": [
    "Допустим, вы работаете в добывающей компании «ГлавРосГосНефть». Нужно решить, где бурить новую скважину.\n",
    "\n",
    "Вам предоставлены пробы нефти в трёх регионах: в каждом 10 000 месторождений, где измерили качество нефти и объём её запасов. Постройте модель машинного обучения, которая поможет определить регион, где добыча принесёт наибольшую прибыль. Проанализируйте возможную прибыль и риски техникой *Bootstrap.*\n",
    "\n",
    "Шаги для выбора локации:\n",
    "\n",
    "- В избранном регионе ищут месторождения, для каждого определяют значения признаков;\n",
    "- Строят модель и оценивают объём запасов;\n",
    "- Выбирают месторождения с самым высокими оценками значений. Количество месторождений зависит от бюджета компании и стоимости разработки одной скважины;\n",
    "- Прибыль равна суммарной прибыли отобранных месторождений."
   ]
  },
  {
   "cell_type": "markdown",
   "metadata": {},
   "source": [
    "### Описание данных"
   ]
  },
  {
   "cell_type": "markdown",
   "metadata": {},
   "source": [
    "\n",
    "Данные геологоразведки трёх регионов находятся в файлах: \n",
    "- /datasets/geo_data_0.csv\n",
    "- /datasets/geo_data_1.csv\n",
    "- /datasets/geo_data_2.csv\n",
    "\n",
    "Содержание:\n",
    "- id — уникальный идентификатор скважины;\n",
    "- f0, f1, f2 — три признака точек (неважно, что они означают, но сами признаки значимы);\n",
    "- product — объём запасов в скважине (тыс. баррелей).\n",
    "\n",
    "Условия задачи:\n",
    "- Для обучения модели подходит только линейная регрессия (остальные — недостаточно предсказуемые).\n",
    "- При разведке региона исследуют 500 точек, из которых с помощью машинного обучения выбирают 200 лучших для разработки.\n",
    "- Бюджет на разработку скважин в регионе — 10 млрд рублей.\n",
    "- При нынешних ценах один баррель сырья приносит 450 рублей дохода. Доход с каждой единицы продукта составляет 450 тыс. рублей, поскольку объём указан в тысячах баррелей.\n",
    "- После оценки рисков нужно оставить лишь те регионы, в которых вероятность убытков меньше 2.5%. Среди них выбирают регион с наибольшей средней прибылью.\n",
    "- Данные синтетические: детали контрактов и характеристики месторождений не разглашаются."
   ]
  },
  {
   "cell_type": "markdown",
   "metadata": {},
   "source": [
    "### План работы"
   ]
  },
  {
   "cell_type": "markdown",
   "metadata": {},
   "source": [
    "1. Загрузить и подготовить данные.\n",
    "2. Обучить проверить модель для каждого региона:\n",
    " - 2.1. Разбийть данные на обучающую и валидационную выборки в соотношении 75:25.\n",
    " - 2.2. Обучить модель и сделать предсказания на валидационной выборке.\n",
    " - 2.3. Сохранить предсказания и правильные ответы на валидационной выборке.\n",
    " - 2.4. Напечатайть на экране средний запас предсказанного сырья и RMSE модели.\n",
    " - 2.5. Проанализировать результаты.\n",
    "3. Подготовиться к расчёту прибыли:\n",
    " - 3.1. Все ключевые значения для расчётов сохранить в отдельных переменных.\n",
    " - 3.2. Рассчитать достаточный объём сырья для безубыточной разработки новой скважины. Сравнить полученный объём сырья со средним запасом в каждом регионе. \n",
    " - 3.3. Написать выводы по этапу подготовки расчёта прибыли.\n",
    "4. Написать функцию для расчёта прибыли по выбранным скважинам и предсказаниям модели:\n",
    " - 4.1. Выбрать скважины с максимальными значениями предсказаний. \n",
    " - 4.2. Просуммировать целевое значение объёма сырья, соответствующее этим предсказаниям.\n",
    " - 4.3. Рассчитать прибыль для полученного объёма сырья.\n",
    "5. Посчитать риски и прибыль для каждого региона:\n",
    " - 5.1. Применить технику Bootstrap с 1000 выборок, чтобы найти распределение прибыли.\n",
    " - 5.2. Найти среднюю прибыль, 95%-й доверительный интервал и риск убытков. Убыток — это отрицательная прибыль.\n",
    " - 5.3. Написать выводы: предложить регион для разработки скважин и обосновать выбор.\n",
    "6. Написать общий вывод по проделанной работе."
   ]
  },
  {
   "cell_type": "markdown",
   "metadata": {},
   "source": [
    "## **0. Инициализация необходимых библиотек и методов**"
   ]
  },
  {
   "cell_type": "code",
   "execution_count": null,
   "metadata": {},
   "outputs": [],
   "source": [
    "pip install -U -q scikit-learn cufflinks phik shap seaborn optuna-integration"
   ]
  },
  {
   "cell_type": "code",
   "execution_count": null,
   "metadata": {},
   "outputs": [],
   "source": [
    "try:\n",
    "    from ydata_profiling import ProfileReport\n",
    "except:\n",
    "    !pip install -U -q Pillow # Для решения ошибки с профайлером\n",
    "    !pip install -U -q ydata-profiling\n",
    "    from ydata_profiling import ProfileReport"
   ]
  },
  {
   "cell_type": "code",
   "execution_count": null,
   "metadata": {},
   "outputs": [],
   "source": [
    "from IPython.display import display, HTML\n",
    "display(HTML(\"<style>.container { width:70% !important; }</style>\"))"
   ]
  },
  {
   "cell_type": "code",
   "execution_count": null,
   "metadata": {},
   "outputs": [],
   "source": [
    "# Импорт основных библиотек\n",
    "import pandas as pd\n",
    "import matplotlib.pyplot as plt\n",
    "%matplotlib inline\n",
    "import seaborn as sns\n",
    "import numpy as np\n",
    "\n",
    "# Импорт графической части plotly\n",
    "import plotly.express as px\n",
    "from plotly.offline import plot\n",
    "\n",
    "\n",
    "\n",
    "# Импорт машинной части\n",
    "import shap\n",
    "# Импорт библиотек необходимых на моделей регрессии\n",
    "\n",
    "from warnings import simplefilter # Для игнорирования предупреждений о изменении некоторых моделей в следующих версия\n",
    "from scipy import stats as st\n",
    "from phik import phik_matrix\n",
    "from phik.report import plot_correlation_matrix\n",
    "from sklearn.model_selection import train_test_split\n",
    "\n",
    "# загружаем класс pipeline\n",
    "from sklearn.pipeline import Pipeline\n",
    "\n",
    "# загружаем классы для подготовки данных\n",
    "from sklearn.preprocessing import StandardScaler, MinMaxScaler, RobustScaler\n",
    "from sklearn.compose import ColumnTransformer\n",
    "\n",
    "\n",
    "# загружаем функцию для работы с метриками\n",
    "from sklearn.metrics import root_mean_squared_error\n",
    "\n",
    "\n",
    "# загружаем нужные модели\n",
    "from sklearn.linear_model import LinearRegression\n",
    "\n",
    "\n",
    "# Для проверки адекватности модели\n",
    "from sklearn.dummy import DummyRegressor\n",
    "# загружаем методы отбора лучших признаков\n",
    "from sklearn.feature_selection import SelectKBest, f_regression\n",
    "from sklearn.preprocessing import PolynomialFeatures\n",
    "\n",
    "from statsmodels.stats.outliers_influence import variance_inflation_factor\n",
    "from statsmodels.tools.tools import add_constant\n",
    "\n",
    "simplefilter(action='ignore', category=FutureWarning) # Включаем фильтр предупреждений"
   ]
  },
  {
   "cell_type": "code",
   "execution_count": null,
   "metadata": {},
   "outputs": [],
   "source": [
    "# Задаём основные показатели размерности выборок и порядка разделения на выборки\n",
    "RANDOM_STATE = 50\n",
    "TEST_SIZE = 0.25"
   ]
  },
  {
   "cell_type": "markdown",
   "metadata": {},
   "source": [
    "## **1. Загрузка и подготовка данных**"
   ]
  },
  {
   "cell_type": "markdown",
   "metadata": {},
   "source": [
    "### 1.1. Загрузка и знакомство с данными"
   ]
  },
  {
   "cell_type": "code",
   "execution_count": null,
   "metadata": {},
   "outputs": [],
   "source": [
    "geo_data_0 = pd.read_csv('https://code.s3.yandex.net/datasets/geo_data_0.csv',index_col='id')"
   ]
  },
  {
   "cell_type": "code",
   "execution_count": null,
   "metadata": {},
   "outputs": [],
   "source": [
    "ProfileReport(geo_data_0, title=\"Profiling Report\") # Получение основной информации о сведениях в тренировочных данных"
   ]
  },
  {
   "cell_type": "code",
   "execution_count": null,
   "metadata": {},
   "outputs": [],
   "source": [
    "geo_data_1 = pd.read_csv('https://code.s3.yandex.net/datasets/geo_data_1.csv',index_col='id')"
   ]
  },
  {
   "cell_type": "code",
   "execution_count": null,
   "metadata": {
    "scrolled": true
   },
   "outputs": [],
   "source": [
    "ProfileReport(geo_data_1, title=\"Profiling Report\") # Получение основной информации о сведениях в тренировочных данных"
   ]
  },
  {
   "cell_type": "code",
   "execution_count": null,
   "metadata": {},
   "outputs": [],
   "source": [
    "geo_data_2 = pd.read_csv('https://code.s3.yandex.net/datasets/geo_data_2.csv',index_col='id')"
   ]
  },
  {
   "cell_type": "code",
   "execution_count": null,
   "metadata": {},
   "outputs": [],
   "source": [
    "ProfileReport(geo_data_2, title=\"Profiling Report\") # Получение основной информации о сведениях в тренировочных данных"
   ]
  },
  {
   "cell_type": "markdown",
   "metadata": {},
   "source": [
    "### Выводы после знакомства с данными\n",
    "- В данных отсутствуют пропуски;\n",
    "- В таблице нет явных дубликатов;\n",
    "- Некоторые признаки коррелируют между собой. Нужно выполнить проверку на наличие мультиколлинеарности;\n",
    "- В geo_data_1 около 8% скважин обладают нулевым запасом;\n",
    "- Во всех таблицах разных разброс значений признаков. Стоит над этим поразмыслить.\n",
    "\n",
    "Данные требует дополнительного исследования и проверки на мультиколлинеарность."
   ]
  },
  {
   "cell_type": "markdown",
   "metadata": {},
   "source": [
    "### 1.2. Исследовательский анализ данных"
   ]
  },
  {
   "cell_type": "code",
   "execution_count": null,
   "metadata": {},
   "outputs": [],
   "source": [
    "# Функция построения гистограммы данных с учётом влияния дополнительного признака\n",
    "def draw_hist_columns(data, columns, color=''):\n",
    "    for column in columns:\n",
    "        if column in data.columns:\n",
    "            if color != '':\n",
    "                fig = px.histogram(data, x=column, color=color, title='Распределение столбца '+column + ' с оценкой влияния ' + color, histnorm='density')\n",
    "            else:\n",
    "                fig = px.histogram(data, x=column, title='Распределение столбца '+column)\n",
    "            fig.show()"
   ]
  },
  {
   "cell_type": "code",
   "execution_count": null,
   "metadata": {},
   "outputs": [],
   "source": [
    "# Строим boxplot для столбцов с некатегориальным распределением данных\n",
    "def draw_boxplot_columns(data, columns, color=''):\n",
    "    for column in columns:\n",
    "        if color != '':\n",
    "            fig = px.box(data, \n",
    "                     x=column, \n",
    "                     color=color,\n",
    "                     title='Ящик с усами столбца '+ str(column) + 'с оценкой влияния ' + color\n",
    "                    )\n",
    "        else:\n",
    "            fig = px.box(data, \n",
    "                     x=column,\n",
    "                     title='Ящик с усами столбца '+ str(column)\n",
    "                    )\n",
    "        fig.show()"
   ]
  },
  {
   "cell_type": "markdown",
   "metadata": {},
   "source": [
    "#### 1.2.1. Исследовательский анализ geo_data_0"
   ]
  },
  {
   "cell_type": "code",
   "execution_count": null,
   "metadata": {
    "scrolled": true
   },
   "outputs": [],
   "source": [
    "draw_hist_columns(geo_data_0, geo_data_0.columns) # Гистограмма распределения показателй признаков"
   ]
  },
  {
   "cell_type": "code",
   "execution_count": null,
   "metadata": {
    "scrolled": true
   },
   "outputs": [],
   "source": [
    "draw_boxplot_columns(geo_data_0, geo_data_0.columns) # Постояние ящиков с усами для признаков"
   ]
  },
  {
   "cell_type": "markdown",
   "metadata": {},
   "source": [
    "**Выводы после анализа данных geo_data_0**\n",
    "\n",
    "- Только f2 имеет нормальное распределение, и насыщен достаточным числом выбросов;\n",
    "- Остальные признаки имеют шипообразную форму;\n",
    "- Видимо, из-за влияния высокого влияния некоторых признаков product имеет шипообразную форму. Однако, если шипы объединить - он будет напоминать нормальное распределение;\n",
    "- Объём запасов распределился от 0 до ~200тыс. баррелей нефти в данном регионе."
   ]
  },
  {
   "cell_type": "markdown",
   "metadata": {},
   "source": [
    "#### 1.2.2. Исследовательский анализ geo_data_1"
   ]
  },
  {
   "cell_type": "code",
   "execution_count": null,
   "metadata": {
    "scrolled": true
   },
   "outputs": [],
   "source": [
    "draw_hist_columns(geo_data_1, geo_data_1.columns)"
   ]
  },
  {
   "cell_type": "code",
   "execution_count": null,
   "metadata": {
    "scrolled": true
   },
   "outputs": [],
   "source": [
    "draw_boxplot_columns(geo_data_1, geo_data_1.columns)"
   ]
  },
  {
   "cell_type": "markdown",
   "metadata": {},
   "source": [
    "**Выводы после анализа данных geo_data_1**\n",
    "- Признак f2 напоминает дискретную форму распределения данных;\n",
    "- Видимо, из-за высокого влияния показателя f2, product принял парно-дискретную форму распределения;\n",
    "- В данном регионе запасы ниже. В диапазоне от 0 до 140."
   ]
  },
  {
   "cell_type": "markdown",
   "metadata": {},
   "source": [
    "#### 1.2.3. Исследовательский анализ geo_data_2"
   ]
  },
  {
   "cell_type": "code",
   "execution_count": null,
   "metadata": {
    "scrolled": true
   },
   "outputs": [],
   "source": [
    "draw_hist_columns(geo_data_2, geo_data_2.columns)"
   ]
  },
  {
   "cell_type": "code",
   "execution_count": null,
   "metadata": {
    "scrolled": true
   },
   "outputs": [],
   "source": [
    "draw_boxplot_columns(geo_data_2, geo_data_2.columns)"
   ]
  },
  {
   "cell_type": "markdown",
   "metadata": {},
   "source": [
    "**Выводы после анализа данных geo_data_2**\n",
    "- Все входные признаки имеют форму нормального распределения;\n",
    "- Целевой признак напоминает форму нормального распределения с выступающими шипами;\n",
    "- В данном регионе запас нефти варьируется от 0 до ~180тыс.баррелей нефти."
   ]
  },
  {
   "cell_type": "markdown",
   "metadata": {},
   "source": [
    "#### Общие выводы исследовательского анализа данных"
   ]
  },
  {
   "cell_type": "markdown",
   "metadata": {},
   "source": [
    "- Все признаки имеют разную форму и диапазон значений для каждой таблицы данных;\n",
    "- В каждом регионе разный запас нефти;\n",
    "- Стоит провести корреляционный анализ данных, для определения точного влияния признаков и отсутствия мультиколлинеарности."
   ]
  },
  {
   "cell_type": "markdown",
   "metadata": {},
   "source": [
    "### 1.3. Корреляционный анализ данных"
   ]
  },
  {
   "cell_type": "code",
   "execution_count": null,
   "metadata": {},
   "outputs": [],
   "source": [
    "pd.DataFrame.iteritems = pd.DataFrame.items"
   ]
  },
  {
   "cell_type": "code",
   "execution_count": null,
   "metadata": {},
   "outputs": [],
   "source": [
    "# Функция отображения матрицы диаграмм рассеяния таблиц данных\n",
    "def plot_scatter_matrix(data, i):\n",
    "    fig = px.scatter_matrix(data, title='Диаграмма рассеяния признаков geo_data_' + str(i))\n",
    "    fig.update_layout(width=1400,height=1400)\n",
    "    fig.update_traces(marker=dict(size=4,line=dict(width=0.5,color='DarkSlateGrey')))\n",
    "    fig.show()"
   ]
  },
  {
   "cell_type": "code",
   "execution_count": null,
   "metadata": {
    "scrolled": true
   },
   "outputs": [],
   "source": [
    "# Цикличный перебор моделей и построение диаграмм рассеяния\n",
    "for i, data in enumerate([geo_data_0, geo_data_1, geo_data_2]):\n",
    "    plot_scatter_matrix(data, i)"
   ]
  },
  {
   "cell_type": "code",
   "execution_count": null,
   "metadata": {},
   "outputs": [],
   "source": [
    "# добавление константы для перехвата\n",
    "def VIF_analyze(data, i):\n",
    "    print('Анализ мультиколлинеарности данных geo_data_' + str(i))\n",
    "    X = add_constant(data.drop('product', axis=1))\n",
    "    int_columns = X.select_dtypes(include='number').columns.tolist()\n",
    "    # расчет VIF для каждого предиктора\n",
    "    VIFs = pd.DataFrame()\n",
    "    VIFs['Variable'] = X[int_columns].columns\n",
    "    VIFs[\"VIF\"] = [variance_inflation_factor(X[int_columns].values, i) for i in range(len(X[int_columns].columns))]\n",
    "    print(VIFs, '\\n')"
   ]
  },
  {
   "cell_type": "code",
   "execution_count": null,
   "metadata": {},
   "outputs": [],
   "source": [
    "# Цикличный перебор данных и оценка мультиколлинеарности\n",
    "for i, data in enumerate([geo_data_0, geo_data_1, geo_data_2]):\n",
    "    VIF_analyze(data, i)"
   ]
  },
  {
   "cell_type": "markdown",
   "metadata": {},
   "source": [
    "**Выводы после оценки диаграмм рассеяния и проверки мультиколлинеарности:**\n",
    "- В geo_data_0 интересная форму корреляции между признаками f0 и f1. Будто какой-то внешний показатель способен отделить зависимость на два бумеранга;\n",
    "- Целевой признак лучшим образом коррелирует с признаком f2. С остальными же признаками - корреляция близка к значению 0;\n",
    "- В geo_data_1 из-за формы признака f2 определить корреляцию крайне тяжело;\n",
    "- В geo_data_2 f2 также демонстрирует своё влияния на целевой признак;\n",
    "- Интересна форма рассения признаков f0, f1 в связке с целевым признаком;\n",
    "- Мультиколлинеарности между признаками после проведения VIF тестирования обнаружено не было."
   ]
  },
  {
   "cell_type": "code",
   "execution_count": null,
   "metadata": {
    "scrolled": true
   },
   "outputs": [],
   "source": [
    "# Строим матрицу корреляции признаков тренировочных данных\n",
    "for i, data in enumerate([geo_data_0, geo_data_1, geo_data_2]):\n",
    "    interval_cols = data.columns\n",
    "    phik_overview = phik_matrix(data, interval_cols= interval_cols) \n",
    "    \n",
    "    plot_correlation_matrix(\n",
    "        phik_overview.values,\n",
    "        x_labels=phik_overview.columns,\n",
    "        y_labels=phik_overview.index,\n",
    "        vmin=0, vmax=1, color_map='Reds',\n",
    "        title=r'Таблица корреляции признаков данных geo_data_' + str(i),\n",
    "        fontsize_factor=1.5,\n",
    "        figsize=(12, 10)\n",
    "    ) \n",
    "    plt.show()"
   ]
  },
  {
   "cell_type": "markdown",
   "metadata": {},
   "source": [
    "#### Выводы корреляционного анализа"
   ]
  },
  {
   "cell_type": "markdown",
   "metadata": {},
   "source": [
    "- Наибольшее общее влияния на целевой признак оказывает *f2*;\n",
    "- Между признаками нет мультиколлинеарности и нет утечки данных;\n",
    "- Все признакми по своему значимы для целевого признака.\n",
    "\n",
    "Можно приступать к подготовке данных и обучению моделей."
   ]
  },
  {
   "cell_type": "markdown",
   "metadata": {},
   "source": [
    "### 1.4 Пайплайны кодирования "
   ]
  },
  {
   "cell_type": "code",
   "execution_count": null,
   "metadata": {},
   "outputs": [],
   "source": [
    "cols = ['f0', 'f1', 'f2'] # Вводим признаки"
   ]
  },
  {
   "cell_type": "code",
   "execution_count": null,
   "metadata": {},
   "outputs": [],
   "source": [
    "# создаём общий пайплайн для подготовки данных\n",
    "data_preprocessor = ColumnTransformer(\n",
    "    [\n",
    "     ('num', StandardScaler(), cols)\n",
    "    ], \n",
    "    remainder='passthrough'\n",
    ")"
   ]
  },
  {
   "cell_type": "code",
   "execution_count": null,
   "metadata": {},
   "outputs": [],
   "source": [
    "# Финальный пайплайн\n",
    "pipe_final = Pipeline([\n",
    "    ('preprocessor', data_preprocessor),\n",
    "    ('poly', PolynomialFeatures(degree=3)),\n",
    "    ('models', LinearRegression() )\n",
    "])"
   ]
  },
  {
   "cell_type": "markdown",
   "metadata": {},
   "source": [
    "**Вывод по пайплайнам кодирования:**\n",
    "- Был создан пайплайн кодирования признаков;\n",
    "- Задали список перебора вариантов предподготовки данных для отбора лучших вариантов."
   ]
  },
  {
   "cell_type": "markdown",
   "metadata": {},
   "source": [
    "### Выводы после загрузки и подготовки данных"
   ]
  },
  {
   "cell_type": "markdown",
   "metadata": {},
   "source": [
    "- Провели знакомство с данными. Оценили наличие пропусков, дубликатов;\n",
    "- Выполнили исследовательский анализ данных. Изучили распределение данных, сделали общие выводы;\n",
    "- Дополнили исследование корреляционным анализом. Оценили данные на наличие мультиколлинеарности;\n",
    "- Реализовали пайплайн кодирования, для корректного обучения моделей и получения достоверных результатов."
   ]
  },
  {
   "cell_type": "markdown",
   "metadata": {},
   "source": [
    "## **2. Обучение и проверка модели**"
   ]
  },
  {
   "cell_type": "markdown",
   "metadata": {},
   "source": [
    "### 2.1. Определение вариационной и обучающей выборки"
   ]
  },
  {
   "cell_type": "code",
   "execution_count": null,
   "metadata": {},
   "outputs": [],
   "source": [
    "X_train, X_valid, y_train, y_valid = [], [], [], [] # Введение переменных для хранения выборок"
   ]
  },
  {
   "cell_type": "code",
   "execution_count": null,
   "metadata": {},
   "outputs": [],
   "source": [
    "# Цикличное разбиение данных по выборкам\n",
    "for data in [geo_data_0, geo_data_1, geo_data_2]:\n",
    "    X = data.drop(columns='product')\n",
    "    y = data['product']\n",
    "    X_t, X_v, y_t, y_v = train_test_split(X, y, test_size= TEST_SIZE, random_state=RANDOM_STATE)\n",
    "    X_train.append(X_t)\n",
    "    X_valid.append(X_v)\n",
    "    y_train.append(y_t)\n",
    "    y_valid.append(y_v)"
   ]
  },
  {
   "cell_type": "markdown",
   "metadata": {},
   "source": [
    "### 2.2. Обучение моделей и сохранение результатов предсказаний"
   ]
  },
  {
   "cell_type": "code",
   "execution_count": null,
   "metadata": {},
   "outputs": [],
   "source": [
    "y_models = [] # Вводим список для хранения пайплайнов моделей"
   ]
  },
  {
   "cell_type": "code",
   "execution_count": null,
   "metadata": {},
   "outputs": [],
   "source": [
    "# Вводим списки для хранения необходимых данных\n",
    "models = []\n",
    "y_pred_mean = []\n",
    "y_valid_mean = []\n",
    "rmse_models = []\n",
    "dummy_rmse = []\n",
    "\n",
    "# Цикличный перебор регионов, обучение и получение результатов моделей\n",
    "for i in range(3):\n",
    "    pipe_final.fit(X_train[i], y_train[i])\n",
    "\n",
    "    models.append(pipe_final)\n",
    "    \n",
    "    y_models.append(pd.DataFrame(y_valid[i].copy()))\n",
    "\n",
    "    y_pred = pipe_final.predict(X_valid[i])\n",
    "    \n",
    "    y_models[i].insert(1,'pred', y_pred)\n",
    "    \n",
    "    y_pred_mean.append(y_pred.mean())\n",
    "    y_valid_mean.append(y_valid[i].mean())\n",
    "\n",
    "    rmse_models.append(root_mean_squared_error(y_valid[i], y_pred))\n",
    "    \n",
    "    dummy_regr = DummyRegressor(strategy=\"mean\") # Реализуем проверку модели на адекватность резульаттов\n",
    "    dummy_regr.fit(X_train[i], y_train[i])\n",
    "    y_pred_dummy = dummy_regr.predict(X_valid[i])\n",
    "    \n",
    "    dummy_rmse.append(root_mean_squared_error(y_valid[i], y_pred_dummy))\n",
    "    "
   ]
  },
  {
   "cell_type": "markdown",
   "metadata": {},
   "source": [
    "### 2.3. Оценка важности признаков"
   ]
  },
  {
   "cell_type": "code",
   "execution_count": null,
   "metadata": {},
   "outputs": [],
   "source": [
    "for i in range(3):\n",
    "    model = models[i]['models']\n",
    "    preprocessor = models[i]['preprocessor']\n",
    "    poly = models[i]['poly']\n",
    "    X_train_t = preprocessor.transform(X_train[i])\n",
    "    X_train_t = poly.transform(X_train_t)\n",
    "    name_columns = poly.get_feature_names_out()\n",
    "    X_train_t = pd.DataFrame(X_train_t, columns = name_columns)\n",
    "    explainer = shap.LinearExplainer(model, X_train_t, feature_perturbation='interventional')\n",
    "    shap_values = explainer.shap_values(X_train_t)\n",
    "\n",
    "    plt.rcParams['axes.titlesize'] = 22\n",
    "    plt.rcParams['axes.labelsize'] = 15\n",
    "    plt.title('График анализа важности признаков')\n",
    "    plt.ylabel('Признаки модели')\n",
    "\n",
    "    # Построение графика важности признаков\n",
    "    shap.summary_plot(shap_values, X_train_t, plot_type='dot', max_display=30, plot_size=(15,15))"
   ]
  },
  {
   "cell_type": "markdown",
   "metadata": {},
   "source": [
    "** Выводы оценки важности признаков:**\n",
    "- Поскольку интерпретировать признаки по наименования мы не можем, то можешь лишь отметить их показатели по важности;\n",
    "- Введение дополнительных признаков оказалось полезно - важную значимость имеют признаки, полученные полиномиальным дополнением;\n",
    "- Для первой итретьей моделей наиболее значим признак f2. Чем больше его значение, чем больше результат предсказания;\n",
    "- Также важным оказался признак f0^2 - положительные значения сильно влияют на положительное предсказание;\n",
    "\n",
    "Можно сделать общую отметку, что положительные значения наиболее важных признаков положительно сказываются на предсказании. Введение дополнительных признаков оправдало себя, как по значимости, так и мо качеству предсказания. Что будет отмечено далее."
   ]
  },
  {
   "cell_type": "markdown",
   "metadata": {},
   "source": [
    "### 2.4. Средний запас в регионах"
   ]
  },
  {
   "cell_type": "code",
   "execution_count": null,
   "metadata": {
    "scrolled": true
   },
   "outputs": [],
   "source": [
    "# Представление результатов в форме датафрейма. Индексы - номера регионов\n",
    "res_models = pd.DataFrame(\n",
    "    {'mean_product': y_valid_mean,\n",
    "     'mean_pred_product': y_pred_mean,\n",
    "     'rmse_model': rmse_models,\n",
    "     'rmse_dummy': dummy_rmse\n",
    "    })\n",
    "res_models"
   ]
  },
  {
   "cell_type": "markdown",
   "metadata": {},
   "source": [
    "### 2.5. Оценка результатов"
   ]
  },
  {
   "cell_type": "markdown",
   "metadata": {},
   "source": [
    "- Наиболее точные предсказания достигнуты в регионе geo_data_1;\n",
    "- В geo_data_1 целевой признак имел высочайший уровень корреляции с одним из признаков. Это может объяснить высокую результативность модели;\n",
    "- Все модели справились лучше, чем модель предсказывающее среднее (DummyRegressor);\n",
    "- Наибольший средний уровень запаса нефтепродуктов в 3-м регионе. Наименьший - в 1-м."
   ]
  },
  {
   "cell_type": "markdown",
   "metadata": {},
   "source": [
    "### Выводы после обучения и проверки моделей"
   ]
  },
  {
   "cell_type": "markdown",
   "metadata": {},
   "source": [
    "- Разделили данные на тренировочную и вариационную выборки;\n",
    "- Реализовали пайплайн для обучения моделей с учетом добавление новых признаков. Использовали полиномиальный метод введения новых признаков;\n",
    "- Получили результаты предсказаний, вычислили ошибку;\n",
    "- Провели адекватность работы моделей с помощью введения DummyRegressor;\n",
    "- Лучше все удаётся предсказывать объём запасов в регионе geo_1;\n",
    "- При этом, в данном регионе наименьшие запасы по оценке модели."
   ]
  },
  {
   "cell_type": "markdown",
   "metadata": {},
   "source": [
    "## **3. Подготовка к расчёту прибыли**"
   ]
  },
  {
   "cell_type": "markdown",
   "metadata": {},
   "source": [
    "Условия задачи:\n",
    "Для обучения модели подходит только линейная регрессия (остальные — недостаточно предсказуемые).\n",
    "\n",
    "При разведке региона исследуют 500 точек, из которых с помощью машинного обучения выбирают 200 лучших для разработки.\n",
    "\n",
    "Бюджет на разработку скважин в регионе — 10 млрд рублей.\n",
    "\n",
    "При нынешних ценах один баррель сырья приносит 450 рублей дохода. Доход с каждой единицы продукта составляет 450 тыс. рублей, поскольку объём указан в тысячах баррелей.\n",
    "\n",
    "После оценки рисков нужно оставить лишь те регионы, в которых вероятность убытков меньше 2.5%. Среди них выбирают регион с наибольшей средней прибылью."
   ]
  },
  {
   "cell_type": "code",
   "execution_count": null,
   "metadata": {},
   "outputs": [],
   "source": [
    "all_points = 500 # Количество рассматриваемых точек\n",
    "best_points = 200 # Число отбираемых для разработки точек\n",
    "budget = 10_000_000_000 # Общий бюджет разработки в регионе\n",
    "profit = 450_000 # Объём прибыли с одной тысячи баррелей"
   ]
  },
  {
   "cell_type": "code",
   "execution_count": null,
   "metadata": {},
   "outputs": [],
   "source": [
    "borehole_budget = budget / best_points # Средний бюджет на разработку 1й скважины\n",
    "\n",
    "raw_material_stock = borehole_budget / profit # Объём запасов необходимый для выхода в 0\n",
    "\n",
    "print('Бюджет одной скважаны равен -',borehole_budget/ 1_000_000,'млн. рублей')\n",
    "print(f'Необходимый объём запасов сырья для выхода в 0 - {raw_material_stock:.4} тыс. баррелей')"
   ]
  },
  {
   "cell_type": "code",
   "execution_count": null,
   "metadata": {},
   "outputs": [],
   "source": [
    "for i in range(3):\n",
    "    print(f'Средний объём запасов нефтепродуктов в регионе geo_data_{i}: {y_valid_mean[i]:.3}')\n",
    "    suitable_boreholes = len(y_models[i].query('product >= @raw_material_stock')['product'])\n",
    "    print(f'Количество скважин с достаточным для безубыточной разработки объёмом запаса: {suitable_boreholes}')\n",
    "    print(f'В процентном соотношении число подходящих скважин соответствует - {suitable_boreholes/len(y_models[i]):.2%}', '\\n')"
   ]
  },
  {
   "cell_type": "markdown",
   "metadata": {},
   "source": [
    "### Выводы после подготовки данных к расчёту прибыли"
   ]
  },
  {
   "cell_type": "markdown",
   "metadata": {},
   "source": [
    "- Ввели необходимые переменные для удобства работы с данными;\n",
    "- Рассчитали средний бюджет выделяемый на разработку одной скважины - он составил 50 миллионов;\n",
    "- Определили необходимый запас сырья для того, чтобы выйти в 0 - 111.5 тысяч баррелей нефти;\n",
    "- Перспективнее всего, с точки зрения количества подходящих скважин, выглядит 3й регион, где порядка 38% скважин имеют запас превышающий уровень выхода на безубыточную добычу.\n",
    "\n",
    "Если сравнивать среднее значение запаса в регионе с необходимым числом для безубыточной разработки - ни один регион не подходит. Именно поэтому так важна качественно настроенная модель, что сможет определить наиболее перспективные точки для разработки. В этом плане наиболее перспективны 2 региона - 2й и 3й. У 2го модель очень точно способна предсказывать объёмы, что крайне полезно, ведь данный регион не сильно богат на запасы. 3й же имеет наибольшее число скважин с превышающим необходимый минимум объёмов. Точный ответ будет дан далее, после проведения всех расчётов."
   ]
  },
  {
   "cell_type": "markdown",
   "metadata": {},
   "source": [
    "## **4. Расчёт прибыли и рисков** "
   ]
  },
  {
   "cell_type": "markdown",
   "metadata": {},
   "source": [
    "### 4.1. Реализация функций расчёта прибыли и оценки рисков"
   ]
  },
  {
   "cell_type": "code",
   "execution_count": null,
   "metadata": {},
   "outputs": [],
   "source": [
    "# Функция расчёта прибыли в регионе для лучших точек\n",
    "def regional_profit(true_values_sample, predicted_values_sample, profit, budget):\n",
    "    n_best_point = predicted_values_sample.sort_values(ascending=False) # Сортируем в порядке убываня предсказания запасов\n",
    "    selected_points = true_values_sample[n_best_point.index][:best_points] # Отбор лучших точек с реальными показателями\n",
    "    return selected_points.sum() * profit - budget # Возвращаем расчёт прибыли"
   ]
  },
  {
   "cell_type": "code",
   "execution_count": null,
   "metadata": {},
   "outputs": [],
   "source": [
    "# Функция бустрапирования\n",
    "def bootstrap_process(true_values, predicted_values, profit, budget, name_data):\n",
    "    state = np.random.RandomState(RANDOM_STATE)\n",
    "    values = []\n",
    "    # Циклично перебираем 1000 подвыборок     \n",
    "    for i in range(1000):\n",
    "        true_values_subsample = true_values.sample(n=all_points, replace=True, random_state=state) # Получаем подвыборку размерностью 500 скважин с учётом возможных повторений\n",
    "        pred_values_subsample = predicted_values[true_values_subsample.index] # Отбираем 500 скажин для модели\n",
    "        profit_region = regional_profit(true_values_subsample, pred_values_subsample, profit, budget) # Вычисляем прибыль в регионе для переданных скажин\n",
    "        values.append(profit_region)\n",
    "                \n",
    "    values = pd.Series(values)\n",
    "    mean_profit_region = values.mean()\n",
    "    lower = values.quantile(0.025)\n",
    "    upper = values.quantile(0.975)\n",
    "    \n",
    "    print(f'Значения для региона: {name_data}')\n",
    "    print('Средняя прибыль:', round(mean_profit_region / 1_000_000, 2), 'млн. рублей')\n",
    "    print('Нижняя граница 95%-го доверительного интервала:', round(lower / 1_000_000,2), 'млн. рублей')\n",
    "    print('Верхняя граница 95%-го доверительного интервала:', round(upper/ 1_000_000,2), 'млн. рублей')\n",
    "    print(f'Риск убытка: {(values < 0).mean():.2%}','\\n') # Есть небольшие сомнения в правильности записи\n"
   ]
  },
  {
   "cell_type": "markdown",
   "metadata": {},
   "source": [
    "### 4.2. Расчёт прибыли и рисков по результатам моделей"
   ]
  },
  {
   "cell_type": "code",
   "execution_count": null,
   "metadata": {
    "scrolled": true
   },
   "outputs": [],
   "source": [
    "# Расчёт средней выручки и 95% доверительного интервала для всех регионов\n",
    "for i in range(3):\n",
    "    bootstrap_process(y_models[i]['product'],y_models[i]['pred'], profit, budget, 'geo_data_'+str(i))"
   ]
  },
  {
   "cell_type": "markdown",
   "metadata": {},
   "source": [
    "### Выводы по оценке результатов"
   ]
  },
  {
   "cell_type": "markdown",
   "metadata": {},
   "source": [
    "- Регион с наибольшей средней прибылью 3-й (geo_data_2);\n",
    "- Доверительный интервал находится в диапазоне от 66 до 1140 миллионов рублей;\n",
    "- Риск убытков в этом регионе находится на уровне 1.1%;\n",
    "- Худший регион для добычи - 1й;\n",
    "- Нижняя граница доверительного интервала предполагает убытки, что для нас крайне недопустимо.\n",
    "\n",
    "\n",
    "Основываясь на выборе среднего уровня прибыли в регионе - **стоит остановить свой выбор на последнем**, так как в нём самый высокий показатель.\n",
    "**Однако, есть дополнительная рекомендация изучить регион geo_data_1.** Средняя прибыль в этом регионе ниже, однако риск убытков ниже, а также нижняя граница доверительного интервала в 2.5 раза выше и находится на уровне 150 миллион рублей."
   ]
  },
  {
   "cell_type": "markdown",
   "metadata": {},
   "source": [
    "## Чек-лист готовности проекта"
   ]
  },
  {
   "cell_type": "markdown",
   "metadata": {},
   "source": [
    "Поставьте 'x' в выполненных пунктах. Далее нажмите Shift+Enter."
   ]
  },
  {
   "cell_type": "markdown",
   "metadata": {},
   "source": [
    "- [x]  Jupyter Notebook открыт\n",
    "- [x]  Весь код выполняется без ошибок\n",
    "- [x]  Ячейки с кодом расположены в порядке исполнения\n",
    "- [x]  Выполнен шаг 1: данные подготовлены\n",
    "- [x]  Выполнен шаг 2: модели обучены и проверены\n",
    "    - [x]  Данные корректно разбиты на обучающую и валидационную выборки\n",
    "    - [x]  Модели обучены, предсказания сделаны\n",
    "    - [x]  Предсказания и правильные ответы на валидационной выборке сохранены\n",
    "    - [x]  На экране напечатаны результаты\n",
    "    - [x]  Сделаны выводы\n",
    "- [x]  Выполнен шаг 3: проведена подготовка к расчёту прибыли\n",
    "    - [x]  Для всех ключевых значений созданы константы Python\n",
    "    - [x]  Посчитано минимальное среднее количество продукта в месторождениях региона, достаточное для разработки\n",
    "    - [x]  По предыдущему пункту сделаны выводы\n",
    "    - [x]  Написана функция расчёта прибыли\n",
    "- [x]  Выполнен шаг 4: посчитаны риски и прибыль\n",
    "    - [x]  Проведена процедура *Bootstrap*\n",
    "    - [x]  Все параметры бутстрепа соответствуют условию\n",
    "    - [x]  Найдены все нужные величины\n",
    "    - [x]  Предложен регион для разработки месторождения\n",
    "    - [x]  Выбор региона обоснован"
   ]
  },
  {
   "cell_type": "markdown",
   "metadata": {},
   "source": [
    "## Общий вывод по проекту"
   ]
  },
  {
   "cell_type": "markdown",
   "metadata": {},
   "source": [
    "**Вывод по проделанной работе:**\n",
    "- Познакомились с данными, провели исследовательский и корреляционный анализ данных. Изучили данные на мультиколлинеарность;\n",
    "- Построили пайплайны кодирования. Добавили новые полиномиальные признаки;\n",
    "- Разбили данные на валидационную и тренировочную выборки;\n",
    "- Провели обучение моделей, оценили важность признаков и вывели результаты;\n",
    "- Подготовились к расчёту прибыли в регионе. Ввели константы, реализовали нужные функции;\n",
    "- Выполнили необходимые расчёты, дали характеристику регионов и подготовили вывод для заказчика.\n",
    "\n",
    "**Небольшой вывод по моделям:**\n",
    "- Лучший показатель у 2го региона, где была корреляция одного признака, аж 98%. Оно и не удивительно, один этот признак отлично предсказывает, а ещё и другие были;\n",
    "- У 1 и 3 региона достаточно высокий показатель среднеквадратичного отклонения, но всё же он лучше, чем у Dummy-модели, и эту метрику удалось немного улучшить введением дополнительных признаков;\n",
    "- Однако, хоть во 2м регионе и был низкий средний показатель запасов - модель очень точно предсказывает уровен нефтепродуктов, а потому не будет проблем с отбором лучших скажин и работой с ними. Это одна из причин рекомендаци 2го региона для нефтедобычи."
   ]
  },
  {
   "cell_type": "markdown",
   "metadata": {},
   "source": [
    "**Общие рекомендации заказчику:**\n",
    "- Предоставить дополнительные сведения для более точной работы модели. Регионы 1 и 3 крайне перспективны по запасам, однако высокий уровень показателя метрики говорит о том, что модель не может точно предсказывать запас нефти, а потому нет возможности отбирать лучшие скважины;\n",
    "- Провести анализ между 2 и 3м регионом, хоть общее среднее и расположено к 3му региону, я бы пригляделся ко 2му региону добычи, высокий доход при нижней границы доверительного интервала подтверждает этот довод;"
   ]
  },
  {
   "cell_type": "code",
   "execution_count": null,
   "metadata": {},
   "outputs": [],
   "source": []
  },
  {
   "cell_type": "code",
   "execution_count": null,
   "metadata": {},
   "outputs": [],
   "source": []
  }
 ],
 "metadata": {
  "ExecuteTimeLog": [
   {
    "duration": 31715,
    "start_time": "2025-02-03T09:45:50.561Z"
   },
   {
    "duration": 36539,
    "start_time": "2025-02-03T09:46:22.279Z"
   },
   {
    "duration": 59,
    "start_time": "2025-02-03T09:46:58.820Z"
   },
   {
    "duration": 633,
    "start_time": "2025-02-03T09:46:58.882Z"
   },
   {
    "duration": 3,
    "start_time": "2025-02-03T09:46:59.516Z"
   },
   {
    "duration": 235,
    "start_time": "2025-02-03T10:17:50.460Z"
   },
   {
    "duration": 142,
    "start_time": "2025-02-03T10:17:53.475Z"
   },
   {
    "duration": 13543,
    "start_time": "2025-02-03T10:17:54.156Z"
   },
   {
    "duration": 155,
    "start_time": "2025-02-03T10:26:38.117Z"
   },
   {
    "duration": 11657,
    "start_time": "2025-02-03T10:26:38.584Z"
   },
   {
    "duration": 147,
    "start_time": "2025-02-03T10:30:02.499Z"
   },
   {
    "duration": 11356,
    "start_time": "2025-02-03T10:30:03.164Z"
   },
   {
    "duration": 190,
    "start_time": "2025-02-03T10:30:14.533Z"
   },
   {
    "duration": 11807,
    "start_time": "2025-02-03T10:30:14.725Z"
   },
   {
    "duration": 4,
    "start_time": "2025-02-03T11:48:25.061Z"
   },
   {
    "duration": 4277,
    "start_time": "2025-02-03T11:48:46.984Z"
   },
   {
    "duration": 70,
    "start_time": "2025-02-03T11:57:44.169Z"
   },
   {
    "duration": 4,
    "start_time": "2025-02-03T11:57:46.295Z"
   },
   {
    "duration": 3406,
    "start_time": "2025-02-03T11:57:46.688Z"
   },
   {
    "duration": 4,
    "start_time": "2025-02-03T11:58:55.116Z"
   },
   {
    "duration": 3762,
    "start_time": "2025-02-03T11:58:55.121Z"
   },
   {
    "duration": 5169,
    "start_time": "2025-02-03T14:56:48.210Z"
   },
   {
    "duration": 2946,
    "start_time": "2025-02-03T14:56:53.382Z"
   },
   {
    "duration": 45,
    "start_time": "2025-02-03T14:56:56.329Z"
   },
   {
    "duration": 613,
    "start_time": "2025-02-03T14:56:56.376Z"
   },
   {
    "duration": 2,
    "start_time": "2025-02-03T14:56:56.992Z"
   },
   {
    "duration": 182,
    "start_time": "2025-02-03T14:56:56.995Z"
   },
   {
    "duration": 11839,
    "start_time": "2025-02-03T14:56:57.179Z"
   },
   {
    "duration": 181,
    "start_time": "2025-02-03T14:57:09.020Z"
   },
   {
    "duration": 11264,
    "start_time": "2025-02-03T14:57:09.203Z"
   },
   {
    "duration": 190,
    "start_time": "2025-02-03T14:57:20.469Z"
   },
   {
    "duration": 11489,
    "start_time": "2025-02-03T14:57:20.661Z"
   },
   {
    "duration": 4,
    "start_time": "2025-02-03T14:57:32.152Z"
   },
   {
    "duration": 4009,
    "start_time": "2025-02-03T14:57:32.157Z"
   },
   {
    "duration": 4,
    "start_time": "2025-02-03T15:26:23.584Z"
   },
   {
    "duration": 30588,
    "start_time": "2025-02-04T07:23:07.032Z"
   },
   {
    "duration": 35066,
    "start_time": "2025-02-04T07:23:37.623Z"
   },
   {
    "duration": 53,
    "start_time": "2025-02-04T07:24:12.691Z"
   },
   {
    "duration": 664,
    "start_time": "2025-02-04T07:24:12.746Z"
   },
   {
    "duration": 2,
    "start_time": "2025-02-04T07:24:13.413Z"
   },
   {
    "duration": 215,
    "start_time": "2025-02-04T07:24:13.417Z"
   },
   {
    "duration": 13472,
    "start_time": "2025-02-04T07:24:13.633Z"
   },
   {
    "duration": 200,
    "start_time": "2025-02-04T07:24:27.106Z"
   },
   {
    "duration": 11147,
    "start_time": "2025-02-04T07:24:27.308Z"
   },
   {
    "duration": 171,
    "start_time": "2025-02-04T07:24:38.457Z"
   },
   {
    "duration": 11411,
    "start_time": "2025-02-04T07:24:38.630Z"
   },
   {
    "duration": 13,
    "start_time": "2025-02-04T07:24:50.043Z"
   },
   {
    "duration": 4,
    "start_time": "2025-02-04T07:24:50.058Z"
   },
   {
    "duration": 4351,
    "start_time": "2025-02-04T07:24:50.065Z"
   },
   {
    "duration": 547,
    "start_time": "2025-02-04T07:24:54.418Z"
   },
   {
    "duration": 18,
    "start_time": "2025-02-04T07:25:33.067Z"
   },
   {
    "duration": 3817,
    "start_time": "2025-02-04T07:25:41.722Z"
   },
   {
    "duration": 83,
    "start_time": "2025-02-04T07:26:12.015Z"
   },
   {
    "duration": 3538,
    "start_time": "2025-02-04T07:26:47.852Z"
   },
   {
    "duration": 3302,
    "start_time": "2025-02-04T07:27:02.502Z"
   },
   {
    "duration": 3756,
    "start_time": "2025-02-04T07:27:25.121Z"
   },
   {
    "duration": 3538,
    "start_time": "2025-02-04T07:27:42.203Z"
   },
   {
    "duration": 173,
    "start_time": "2025-02-04T08:00:50.565Z"
   },
   {
    "duration": 5489,
    "start_time": "2025-02-04T08:25:53.550Z"
   },
   {
    "duration": 3403,
    "start_time": "2025-02-04T08:25:59.041Z"
   },
   {
    "duration": 86,
    "start_time": "2025-02-04T08:26:02.446Z"
   },
   {
    "duration": 668,
    "start_time": "2025-02-04T08:26:02.533Z"
   },
   {
    "duration": 3,
    "start_time": "2025-02-04T08:26:03.203Z"
   },
   {
    "duration": 195,
    "start_time": "2025-02-04T08:26:03.207Z"
   },
   {
    "duration": 11925,
    "start_time": "2025-02-04T08:26:03.404Z"
   },
   {
    "duration": 224,
    "start_time": "2025-02-04T08:26:15.355Z"
   },
   {
    "duration": 11101,
    "start_time": "2025-02-04T08:26:15.581Z"
   },
   {
    "duration": 240,
    "start_time": "2025-02-04T08:26:26.684Z"
   },
   {
    "duration": 11432,
    "start_time": "2025-02-04T08:26:26.926Z"
   },
   {
    "duration": 4,
    "start_time": "2025-02-04T08:26:38.360Z"
   },
   {
    "duration": 18,
    "start_time": "2025-02-04T08:26:38.365Z"
   },
   {
    "duration": 4688,
    "start_time": "2025-02-07T13:52:49.779Z"
   },
   {
    "duration": 2848,
    "start_time": "2025-02-07T13:52:54.469Z"
   },
   {
    "duration": 43,
    "start_time": "2025-02-07T13:52:57.319Z"
   },
   {
    "duration": 533,
    "start_time": "2025-02-07T13:52:57.363Z"
   },
   {
    "duration": 2,
    "start_time": "2025-02-07T13:52:57.898Z"
   },
   {
    "duration": 404,
    "start_time": "2025-02-07T13:52:57.902Z"
   },
   {
    "duration": 3,
    "start_time": "2025-02-07T13:52:58.308Z"
   },
   {
    "duration": 385,
    "start_time": "2025-02-07T13:52:58.312Z"
   },
   {
    "duration": 3,
    "start_time": "2025-02-07T13:52:58.698Z"
   },
   {
    "duration": 346,
    "start_time": "2025-02-07T13:52:58.702Z"
   },
   {
    "duration": 3,
    "start_time": "2025-02-07T13:52:59.049Z"
   },
   {
    "duration": 88,
    "start_time": "2025-02-07T13:52:59.053Z"
   },
   {
    "duration": 8,
    "start_time": "2025-02-07T13:52:59.143Z"
   },
   {
    "duration": 5815,
    "start_time": "2025-02-07T15:53:16.207Z"
   },
   {
    "duration": 2828,
    "start_time": "2025-02-07T15:53:22.024Z"
   },
   {
    "duration": 46,
    "start_time": "2025-02-07T15:53:24.854Z"
   },
   {
    "duration": 528,
    "start_time": "2025-02-07T15:53:24.901Z"
   },
   {
    "duration": 3,
    "start_time": "2025-02-07T15:53:25.431Z"
   },
   {
    "duration": 419,
    "start_time": "2025-02-07T15:53:25.435Z"
   },
   {
    "duration": 30019,
    "start_time": "2025-02-07T17:09:47.699Z"
   },
   {
    "duration": 32923,
    "start_time": "2025-02-07T17:10:17.720Z"
   },
   {
    "duration": 38,
    "start_time": "2025-02-07T17:10:50.644Z"
   },
   {
    "duration": 546,
    "start_time": "2025-02-07T17:10:50.684Z"
   },
   {
    "duration": 3,
    "start_time": "2025-02-07T17:10:51.232Z"
   },
   {
    "duration": 454,
    "start_time": "2025-02-07T17:10:51.237Z"
   },
   {
    "duration": 11254,
    "start_time": "2025-02-07T17:10:51.693Z"
   },
   {
    "duration": 348,
    "start_time": "2025-02-07T17:11:02.948Z"
   },
   {
    "duration": 10895,
    "start_time": "2025-02-07T17:11:03.298Z"
   },
   {
    "duration": 420,
    "start_time": "2025-02-07T17:11:14.195Z"
   },
   {
    "duration": 11291,
    "start_time": "2025-02-07T17:11:14.617Z"
   },
   {
    "duration": 4,
    "start_time": "2025-02-07T17:11:25.909Z"
   },
   {
    "duration": 16,
    "start_time": "2025-02-07T17:11:25.915Z"
   },
   {
    "duration": 3916,
    "start_time": "2025-02-07T17:11:25.935Z"
   },
   {
    "duration": 3570,
    "start_time": "2025-02-07T17:11:29.854Z"
   },
   {
    "duration": 3652,
    "start_time": "2025-02-07T17:11:33.427Z"
   },
   {
    "duration": 3752,
    "start_time": "2025-02-07T17:11:37.082Z"
   },
   {
    "duration": 3576,
    "start_time": "2025-02-07T17:11:40.837Z"
   },
   {
    "duration": 3487,
    "start_time": "2025-02-07T17:11:44.416Z"
   },
   {
    "duration": 4,
    "start_time": "2025-02-07T17:11:47.907Z"
   },
   {
    "duration": 9,
    "start_time": "2025-02-07T17:11:47.914Z"
   },
   {
    "duration": 7,
    "start_time": "2025-02-07T17:11:47.924Z"
   },
   {
    "duration": 3016,
    "start_time": "2025-02-07T17:14:41.241Z"
   },
   {
    "duration": 3,
    "start_time": "2025-02-07T17:14:44.259Z"
   },
   {
    "duration": 349,
    "start_time": "2025-02-07T17:14:44.548Z"
   },
   {
    "duration": 364,
    "start_time": "2025-02-07T17:14:46.981Z"
   },
   {
    "duration": 337,
    "start_time": "2025-02-07T17:14:48.794Z"
   },
   {
    "duration": 2,
    "start_time": "2025-02-07T17:14:53.592Z"
   },
   {
    "duration": 84,
    "start_time": "2025-02-07T17:14:54.017Z"
   },
   {
    "duration": 2,
    "start_time": "2025-02-07T17:14:55.108Z"
   },
   {
    "duration": 158,
    "start_time": "2025-02-07T17:14:55.447Z"
   },
   {
    "duration": 2,
    "start_time": "2025-02-07T17:15:01.565Z"
   },
   {
    "duration": 2,
    "start_time": "2025-02-07T17:15:01.696Z"
   },
   {
    "duration": 3,
    "start_time": "2025-02-07T17:15:01.843Z"
   },
   {
    "duration": 9,
    "start_time": "2025-02-07T17:15:03.644Z"
   },
   {
    "duration": 68,
    "start_time": "2025-02-07T17:15:03.877Z"
   },
   {
    "duration": 3,
    "start_time": "2025-02-07T17:15:04.209Z"
   },
   {
    "duration": 1010,
    "start_time": "2025-02-07T17:15:04.365Z"
   },
   {
    "duration": 30012,
    "start_time": "2025-02-07T17:15:09.802Z"
   },
   {
    "duration": 12,
    "start_time": "2025-02-07T17:15:39.816Z"
   },
   {
    "duration": 2,
    "start_time": "2025-02-07T17:15:45.640Z"
   },
   {
    "duration": 5,
    "start_time": "2025-02-07T17:15:46.412Z"
   },
   {
    "duration": 3,
    "start_time": "2025-02-07T17:16:06.169Z"
   },
   {
    "duration": 5,
    "start_time": "2025-02-07T17:16:32.757Z"
   },
   {
    "duration": 5973,
    "start_time": "2025-02-07T17:16:37.696Z"
   },
   {
    "duration": 102,
    "start_time": "2025-02-08T07:52:00.983Z"
   },
   {
    "duration": 42,
    "start_time": "2025-02-08T08:03:12.638Z"
   },
   {
    "duration": 6,
    "start_time": "2025-02-08T08:03:31.513Z"
   },
   {
    "duration": 1472,
    "start_time": "2025-02-08T08:03:36.001Z"
   },
   {
    "duration": 0,
    "start_time": "2025-02-08T08:03:37.475Z"
   },
   {
    "duration": 28163,
    "start_time": "2025-02-08T08:03:42.633Z"
   },
   {
    "duration": 28549,
    "start_time": "2025-02-08T08:04:10.799Z"
   },
   {
    "duration": 0,
    "start_time": "2025-02-08T08:04:39.350Z"
   },
   {
    "duration": 0,
    "start_time": "2025-02-08T08:04:39.352Z"
   },
   {
    "duration": 0,
    "start_time": "2025-02-08T08:04:39.354Z"
   },
   {
    "duration": 0,
    "start_time": "2025-02-08T08:04:39.355Z"
   },
   {
    "duration": 0,
    "start_time": "2025-02-08T08:04:39.356Z"
   },
   {
    "duration": 0,
    "start_time": "2025-02-08T08:04:39.358Z"
   },
   {
    "duration": 7147,
    "start_time": "2025-02-08T08:06:22.582Z"
   },
   {
    "duration": 85,
    "start_time": "2025-02-08T08:07:03.873Z"
   },
   {
    "duration": 7008,
    "start_time": "2025-02-08T08:07:08.834Z"
   },
   {
    "duration": 5146,
    "start_time": "2025-02-08T08:07:23.559Z"
   },
   {
    "duration": 3051,
    "start_time": "2025-02-08T08:07:28.707Z"
   },
   {
    "duration": 42,
    "start_time": "2025-02-08T08:07:31.760Z"
   },
   {
    "duration": 560,
    "start_time": "2025-02-08T08:07:31.803Z"
   },
   {
    "duration": 3,
    "start_time": "2025-02-08T08:07:32.364Z"
   },
   {
    "duration": 400,
    "start_time": "2025-02-08T08:07:32.368Z"
   },
   {
    "duration": 11437,
    "start_time": "2025-02-08T08:07:32.770Z"
   },
   {
    "duration": 371,
    "start_time": "2025-02-08T08:07:44.209Z"
   },
   {
    "duration": 10729,
    "start_time": "2025-02-08T08:07:44.582Z"
   },
   {
    "duration": 379,
    "start_time": "2025-02-08T08:07:55.314Z"
   },
   {
    "duration": 33067,
    "start_time": "2025-02-09T07:28:18.681Z"
   },
   {
    "duration": 36055,
    "start_time": "2025-02-09T07:28:51.751Z"
   },
   {
    "duration": 39,
    "start_time": "2025-02-09T07:29:27.809Z"
   },
   {
    "duration": 597,
    "start_time": "2025-02-09T07:29:27.849Z"
   },
   {
    "duration": 6,
    "start_time": "2025-02-09T07:29:28.449Z"
   },
   {
    "duration": 508,
    "start_time": "2025-02-09T07:29:28.457Z"
   }
  ],
  "kernelspec": {
   "display_name": "Python 3 (ipykernel)",
   "language": "python",
   "name": "python3"
  },
  "language_info": {
   "codemirror_mode": {
    "name": "ipython",
    "version": 3
   },
   "file_extension": ".py",
   "mimetype": "text/x-python",
   "name": "python",
   "nbconvert_exporter": "python",
   "pygments_lexer": "ipython3",
   "version": "3.12.4"
  },
  "toc": {
   "base_numbering": 1,
   "nav_menu": {},
   "number_sections": false,
   "sideBar": true,
   "skip_h1_title": true,
   "title_cell": "Table of Contents",
   "title_sidebar": "Contents",
   "toc_cell": false,
   "toc_position": {
    "height": "calc(100% - 180px)",
    "left": "10px",
    "top": "150px",
    "width": "251.594px"
   },
   "toc_section_display": true,
   "toc_window_display": true
  }
 },
 "nbformat": 4,
 "nbformat_minor": 4
}
